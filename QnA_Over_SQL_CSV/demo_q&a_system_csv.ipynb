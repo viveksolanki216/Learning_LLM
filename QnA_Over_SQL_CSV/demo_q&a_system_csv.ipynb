{
 "cells": [
  {
   "metadata": {},
   "cell_type": "markdown",
   "source": "## Building SQL Agents using LLM that will transform the natural language query into SQL query and interact with the database.",
   "id": "fb64f875261f38b0"
  },
  {
   "cell_type": "code",
   "id": "initial_id",
   "metadata": {
    "collapsed": true,
    "ExecuteTime": {
     "end_time": "2025-02-09T10:22:17.786757Z",
     "start_time": "2025-02-09T10:22:17.705788Z"
    }
   },
   "source": [
    "# Load the csv data into sqlite database and test run the sql query\n",
    "# Load data from csv\n",
    "import pandas as pd\n",
    "data = pd.read_csv('/Users/vss/Work/Learnings_Sourced_v_Not_HighScoring/input/Source Data 02-21-24.csv', encoding='latin1')\n",
    "print(data.shape)"
   ],
   "outputs": [
    {
     "name": "stdout",
     "output_type": "stream",
     "text": [
      "(5644, 92)\n"
     ]
    }
   ],
   "execution_count": 7
  },
  {
   "metadata": {
    "ExecuteTime": {
     "end_time": "2025-02-09T10:22:23.417515Z",
     "start_time": "2025-02-09T10:22:20.154547Z"
    }
   },
   "cell_type": "code",
   "source": [
    "# Define Language model\n",
    "from langchain_ollama import OllamaLLM\n",
    "llm_model = OllamaLLM(model=\"deepseek-r1:7b\")#'llama3.1:8b')#\") # Language model for answe generation\n",
    "#llm_model = OllamaLLM(model=\"deepseek-r1:7b\") # Language model for answe generation\n",
    "llm_model.invoke(\"Hi\")"
   ],
   "id": "a85d99a46e73583f",
   "outputs": [
    {
     "data": {
      "text/plain": [
       "'<think>\\n\\n</think>\\n\\nHello! How can I assist you today? 😊'"
      ]
     },
     "execution_count": 8,
     "metadata": {},
     "output_type": "execute_result"
    }
   ],
   "execution_count": 8
  },
  {
   "metadata": {
    "ExecuteTime": {
     "end_time": "2025-02-09T11:04:19.097774Z",
     "start_time": "2025-02-09T11:04:19.086203Z"
    }
   },
   "cell_type": "code",
   "source": [
    "question = \"Extract all deals specifically associated with the company 'Imperfect Foods' from the given list of deals.\"\n",
    "context = ', '.join(data['Opportunity Name'])\n",
    "#context = 'Imperfect Foods - Seed, Meta - Series A, Imperfect Foods - Series B, Fundly - SAFE'\n",
    "#print(context)\n",
    "#print(data['Opportunity Name'].str.contains('Imperfect Foods'))\n",
    "context = ', '.join(data.loc[data['Opportunity Name'].str.contains('Imperfect Foods'), 'Opportunity Name'])\n",
    "print(', '.join(data.loc[data['Opportunity Name'].str.contains('Imperfect Foods'), 'Opportunity Name']))"
   ],
   "id": "98af4479bbb4a3a8",
   "outputs": [
    {
     "name": "stdout",
     "output_type": "stream",
     "text": [
      "Imperfect Foods (fka Imperfect Produce) Series Seed, Imperfect Foods (fka Imperfect Produce) Series A, Imperfect Foods (fka Imperfect Produce) Bridge, Imperfect Foods (fka Produce) Series B / Secondary, Imperfect Foods Bridge Note, Imperfect Foods Bridge Note, Imperfect Foods Series C follow on\n"
     ]
    }
   ],
   "execution_count": 33
  },
  {
   "metadata": {
    "ExecuteTime": {
     "end_time": "2025-02-09T11:04:29.358792Z",
     "start_time": "2025-02-09T11:04:20.788044Z"
    }
   },
   "cell_type": "code",
   "source": [
    "# The above chain invokation may not give the correct SQL query. So, we can use the following code to get the correct SQL query.\n",
    "\n",
    "from langchain_core.prompts import ChatPromptTemplate\n",
    "PROMPT_TEMPLATE = \"\"\"\n",
    "You are an expert assistant. Use the provided context to answer the query.\n",
    "\n",
    "Query: \"{user_question}\"\n",
    "\n",
    "Context: \"{context}\"\n",
    "\"\"\"\n",
    "prompt = ChatPromptTemplate.from_template(PROMPT_TEMPLATE)\n",
    "response_chain = prompt | llm_model\n",
    "response = response_chain.invoke({\"user_question\": question, \"context\": context})\n",
    "print(response)\n"
   ],
   "id": "fc67afbd13764e51",
   "outputs": [
    {
     "name": "stdout",
     "output_type": "stream",
     "text": [
      "<think>\n",
      "Okay, so I need to figure out how to extract all the deals related to \"Imperfect Foods\" from the given list. Let me start by understanding what's provided.\n",
      "\n",
      "The context is a series of terms listed: \"Imperfect Foods (fka Imperfect Produce) Series Seed,\" then another one with \"A,\" followed by \"B / Secondary.\" Then some notes marked as \"Bridge\" and another \"Series C follow on.\"\n",
      "\n",
      "I think the goal here is to identify which of these are actual deals. The context mentions that each deal has a type, like Series, A, B, etc., and some have notes or are follow-ups.\n",
      "\n",
      "So, I should list all items starting with \"Imperfect Foods\" and then note their types. The \"Series Seed,\" \"A,\" \"B / Secondary\" sound like different stages or types of deals. The terms after the slash might indicate additional information, so \"Bridge Note\" could be a type of deal as well.\n",
      "\n",
      "I'll need to extract each unique term that starts with \"Imperfect Foods\" followed by its suffixes and any modifiers.\n",
      "</think>\n",
      "\n",
      "The deals related to \"Imperfect Foods\" are:\n",
      "\n",
      "1. Imperfect Foods (fka Imperfect Produce) Series Seed\n",
      "2. Imperfect Foods (fka Imperfect Produce) Series A\n",
      "3. Imperfect Foods (fka Imperfect Produce) Bridge\n",
      "4. Imperfect Foods (fka Produce) Series B / Secondary\n",
      "5. Imperfect Foods Bridge Note\n",
      "6. Imperfect Foods Series C follow on\n"
     ]
    }
   ],
   "execution_count": 34
  },
  {
   "metadata": {},
   "cell_type": "code",
   "source": [
    "# Create a sqlite database and load the data\n",
    "from sqlalchemy import create_engine\n",
    "import os\n",
    "if not os.path.exists('cv_data.db'):\n",
    "    engine = create_engine('sqlite:///cv_data.db', echo=False)\n",
    "    data.to_sql('sourced_data', engine, index=False)\n",
    "    print(\"A .db (kind of txt) file is created in the current directory.\")\n",
    "else:\n",
    "    print(\"The .db file already exists in the current directory.\")\n"
   ],
   "id": "7dc097ed8fb79f39",
   "outputs": [],
   "execution_count": null
  },
  {
   "metadata": {},
   "cell_type": "code",
   "source": [
    "# Test run the sql query\n",
    "from langchain_community.utilities import  SQLDatabase\n",
    "\n",
    "db = SQLDatabase(engine=engine)\n",
    "print(db.dialect)\n",
    "print(db.get_usable_table_names())\n",
    "db.run(\"SELECT count(*) from sourced_data where `CV Contact Type`='Portfolio Company';\")\n"
   ],
   "id": "159538c07475ff78",
   "outputs": [],
   "execution_count": null
  },
  {
   "metadata": {},
   "cell_type": "code",
   "source": [
    "db.get_usable_table_names()\n",
    "db.table_info"
   ],
   "id": "4f72b2a8ce97716c",
   "outputs": [],
   "execution_count": null
  },
  {
   "metadata": {},
   "cell_type": "code",
   "source": [
    "from langchain.chains import create_sql_query_chain\n",
    "chain = create_sql_query_chain(llm_model, db)\n",
    "chain.get_prompts()[0].pretty_print()\n",
    "print(chain)"
   ],
   "id": "afa9227302acd0ba",
   "outputs": [],
   "execution_count": null
  },
  {
   "metadata": {},
   "cell_type": "code",
   "source": [
    "question = \"What is the distribution of `CV Contact Type`\"\n",
    "question = \"How many deals are there in the sourced_data table\"\n",
    "question = \"How many deals are there in the sourced_data table that is closed by correlation\"\n",
    "query_first_attempt = chain.invoke({\"question\": question})\n",
    "print(query_first_attempt)"
   ],
   "id": "3622e52ef1772488",
   "outputs": [],
   "execution_count": null
  },
  {
   "metadata": {},
   "cell_type": "code",
   "source": [
    "# The above chain invokation may not give the correct SQL query. So, we can use the following code to get the correct SQL query.\n",
    "\n",
    "from langchain_core.prompts import ChatPromptTemplate\n",
    "PROMPT_TEMPLATE = \"\"\"\n",
    "You are an expert SQL query creator. Build a SQL query to answer the following user question using the provided context and few rows from the table.\n",
    "Only return SQL quesry in string format.\n",
    "\n",
    "Question: {user_question}\n",
    "Context: {context}\n",
    "\n",
    "Answer:\n",
    "\"\"\"\n",
    "prompt = ChatPromptTemplate.from_template(PROMPT_TEMPLATE)\n",
    "response_chain = prompt | llm_model\n",
    "response = response_chain.invoke({\"user_question\": question, \"context\": query_first_attempt})\n",
    "print(response)\n"
   ],
   "id": "778301a805253dee",
   "outputs": [],
   "execution_count": null
  },
  {
   "metadata": {},
   "cell_type": "code",
   "source": "db.run(\"\"\"SELECT * FROM sourced_data limit 10;\"\"\")",
   "id": "d6a462e11e603b87",
   "outputs": [],
   "execution_count": null
  },
  {
   "metadata": {},
   "cell_type": "code",
   "source": [
    "from langchain_experimental.agents import create_pandas_dataframe_agent\n",
    "\n",
    "agent_executor = create_pandas_dataframe_agent(\n",
    "    llm_model,\n",
    "    data,\n",
    "    verbose=True,\n",
    "    allow_dangerous_code=True,\n",
    "    include_df_in_prompt=False\n",
    ")\n",
    "print(agent_executor)\n",
    "question1 = \"What is the distribution of `CV Contact Type`\" # Ran Successfull\n",
    "question2 = \"How many deals that are sourced after 2020\" # Failed, becasue date_sourced could not found\n",
    "question3 = \"How many deals that are sourced after 2020? use `Date Docs Received` as date sourced.\" # Failed, becasue date_sourced could not found\n",
    "agent_executor.invoke({\"input\": question3})"
   ],
   "id": "6a15c93c3006e41d",
   "outputs": [],
   "execution_count": null
  },
  {
   "metadata": {},
   "cell_type": "code",
   "source": "llm_model",
   "id": "c5fa8be52273130a",
   "outputs": [],
   "execution_count": null
  },
  {
   "metadata": {},
   "cell_type": "code",
   "source": [
    "# Now create a SQL Agent using LLM that will transform the natural language query into SQL query and interact with the database\n",
    "from langchain_community.agent_toolkits import create_sql_agent\n",
    "agent_executor = create_sql_agent(llm_model, db=db, agent_type=\"zero-shot-react-description\", verbose=True, handle_parsing_errors=True, max_iterations=30)\n",
    "print(agent_executor)\n",
    "agent_executor.invoke({\"input\": \"How many rows are there in the sourced_data table\"})"
   ],
   "id": "ed21c35b6916302a",
   "outputs": [],
   "execution_count": null
  }
 ],
 "metadata": {
  "kernelspec": {
   "display_name": "Python 3",
   "language": "python",
   "name": "python3"
  },
  "language_info": {
   "codemirror_mode": {
    "name": "ipython",
    "version": 2
   },
   "file_extension": ".py",
   "mimetype": "text/x-python",
   "name": "python",
   "nbconvert_exporter": "python",
   "pygments_lexer": "ipython2",
   "version": "2.7.6"
  }
 },
 "nbformat": 4,
 "nbformat_minor": 5
}
